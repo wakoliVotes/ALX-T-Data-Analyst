{
 "cells": [
  {
   "cell_type": "markdown",
   "id": "755e287f",
   "metadata": {},
   "source": [
    "## Project Title:\n",
    "\n",
    "### An Investigation into Factors Affecting People's Income Range Using Python\n",
    "#### Data Used: Census Income data"
   ]
  },
  {
   "cell_type": "markdown",
   "id": "a0a500b6",
   "metadata": {},
   "source": [
    "### Introduction\n",
    "- Business and government decision-making is something that is core to the daily operations. As such, the adoption of the proper tools that can suport better decision-making and improve operations in businesses and government entities is vital.\n",
    "- In meeting this goal, statistics is one of the useful teachniques that makes it possible to examine data, and make reliable conclusions that can support operational success.\n",
    "- As part of the Udacity program, this report focuses on the **census income data**, which is taken through an in-depth statistical process, with the reliance on Python programming language and **Jupyter Notebook**, as part of the **Anaconda Ecosystem**.\n",
    "- With the dataset selected comprising different variables, i.e., 15 in total, this research will only focus on some of the chosen numeric variables, relative to the below research and hypotheis for complete data analysis."
   ]
  },
  {
   "cell_type": "markdown",
   "id": "3b05c25f",
   "metadata": {},
   "source": [
    "\n",
    "### Aims/Objectives\n",
    "\n",
    "1. By the end of the analysis, the report aims to document correlation(association) numerical variables\n",
    "2. By the end of the analysis, the report will document which of the chosen variables has the major effect\n",
    "3. By the end of the analysis, the report will visualize key variables and their proportion in the census dataset\n",
    "\n",
    "- Hence, with the data comprising 15 variables, the numerical variables are\n",
    "- i. age\n",
    "- ii. fnlwgt\n",
    "- iii. education-num\n",
    "- iv. capital-gain\n",
    "- v. capital-loss\n",
    "- vi. hours-per-week"
   ]
  },
  {
   "cell_type": "markdown",
   "id": "ee99a853",
   "metadata": {},
   "source": [
    "### Research Question and Hypotheses\n",
    "\n",
    "#### Research Question\n",
    "- Is there an correlation between numeric variables in the census dataset?\n",
    "- What is the direction of the correlation across the numeric variables, if it exists?\n",
    "- What are the major descriptive statistics information across the key variables?\n",
    "#### Hypotheses\n",
    "- Null ===>         H0: No statistical correlation association exists between respective numerical variables\n",
    "- Alternative ====> Ha: Statistical Corelation association exists between respective numerical variables"
   ]
  },
  {
   "cell_type": "markdown",
   "id": "177e8561",
   "metadata": {},
   "source": [
    "### Data Preparation\n",
    "\n",
    "- To fully examine the data, and make desired conclusions, using the different preparation techniques becomes necessary\n",
    "- The below steps makes this process possible"
   ]
  },
  {
   "cell_type": "code",
   "execution_count": 1,
   "id": "89b5d667",
   "metadata": {
    "scrolled": true
   },
   "outputs": [
    {
     "data": {
      "text/html": [
       "<div>\n",
       "<style scoped>\n",
       "    .dataframe tbody tr th:only-of-type {\n",
       "        vertical-align: middle;\n",
       "    }\n",
       "\n",
       "    .dataframe tbody tr th {\n",
       "        vertical-align: top;\n",
       "    }\n",
       "\n",
       "    .dataframe thead th {\n",
       "        text-align: right;\n",
       "    }\n",
       "</style>\n",
       "<table border=\"1\" class=\"dataframe\">\n",
       "  <thead>\n",
       "    <tr style=\"text-align: right;\">\n",
       "      <th></th>\n",
       "      <th>age</th>\n",
       "      <th>workclass</th>\n",
       "      <th>fnlwgt</th>\n",
       "      <th>education</th>\n",
       "      <th>education-num</th>\n",
       "      <th>marital-status</th>\n",
       "      <th>occupation</th>\n",
       "      <th>relationship</th>\n",
       "      <th>race</th>\n",
       "      <th>sex</th>\n",
       "      <th>capital-gain</th>\n",
       "      <th>capital-loss</th>\n",
       "      <th>hours-per-week</th>\n",
       "      <th>native-country</th>\n",
       "      <th>income-range</th>\n",
       "    </tr>\n",
       "  </thead>\n",
       "  <tbody>\n",
       "    <tr>\n",
       "      <th>0</th>\n",
       "      <td>39.0</td>\n",
       "      <td>State-gov</td>\n",
       "      <td>77516.0</td>\n",
       "      <td>Bachelors</td>\n",
       "      <td>13.0</td>\n",
       "      <td>Never-married</td>\n",
       "      <td>Adm-clerical</td>\n",
       "      <td>Not-in-family</td>\n",
       "      <td>White</td>\n",
       "      <td>Male</td>\n",
       "      <td>2174.0</td>\n",
       "      <td>0.0</td>\n",
       "      <td>40.0</td>\n",
       "      <td>United-States</td>\n",
       "      <td>&lt;=50K</td>\n",
       "    </tr>\n",
       "    <tr>\n",
       "      <th>1</th>\n",
       "      <td>50.0</td>\n",
       "      <td>Self-emp-not-inc</td>\n",
       "      <td>83311.0</td>\n",
       "      <td>Bachelors</td>\n",
       "      <td>13.0</td>\n",
       "      <td>Married-civ-spouse</td>\n",
       "      <td>Exec-managerial</td>\n",
       "      <td>Husband</td>\n",
       "      <td>White</td>\n",
       "      <td>Male</td>\n",
       "      <td>0.0</td>\n",
       "      <td>0.0</td>\n",
       "      <td>13.0</td>\n",
       "      <td>United-States</td>\n",
       "      <td>&lt;=50K</td>\n",
       "    </tr>\n",
       "    <tr>\n",
       "      <th>2</th>\n",
       "      <td>38.0</td>\n",
       "      <td>Private</td>\n",
       "      <td>215646.0</td>\n",
       "      <td>HS-grad</td>\n",
       "      <td>9.0</td>\n",
       "      <td>Divorced</td>\n",
       "      <td>Handlers-cleaners</td>\n",
       "      <td>Not-in-family</td>\n",
       "      <td>White</td>\n",
       "      <td>Male</td>\n",
       "      <td>0.0</td>\n",
       "      <td>0.0</td>\n",
       "      <td>40.0</td>\n",
       "      <td>United-States</td>\n",
       "      <td>&lt;=50K</td>\n",
       "    </tr>\n",
       "    <tr>\n",
       "      <th>3</th>\n",
       "      <td>53.0</td>\n",
       "      <td>Private</td>\n",
       "      <td>234721.0</td>\n",
       "      <td>11th</td>\n",
       "      <td>7.0</td>\n",
       "      <td>Married-civ-spouse</td>\n",
       "      <td>Handlers-cleaners</td>\n",
       "      <td>Husband</td>\n",
       "      <td>Black</td>\n",
       "      <td>Male</td>\n",
       "      <td>0.0</td>\n",
       "      <td>0.0</td>\n",
       "      <td>40.0</td>\n",
       "      <td>United-States</td>\n",
       "      <td>&lt;=50K</td>\n",
       "    </tr>\n",
       "    <tr>\n",
       "      <th>4</th>\n",
       "      <td>28.0</td>\n",
       "      <td>Private</td>\n",
       "      <td>338409.0</td>\n",
       "      <td>Bachelors</td>\n",
       "      <td>13.0</td>\n",
       "      <td>Married-civ-spouse</td>\n",
       "      <td>Prof-specialty</td>\n",
       "      <td>Wife</td>\n",
       "      <td>Black</td>\n",
       "      <td>Female</td>\n",
       "      <td>0.0</td>\n",
       "      <td>0.0</td>\n",
       "      <td>40.0</td>\n",
       "      <td>Cuba</td>\n",
       "      <td>&lt;=50K</td>\n",
       "    </tr>\n",
       "  </tbody>\n",
       "</table>\n",
       "</div>"
      ],
      "text/plain": [
       "    age          workclass    fnlwgt   education  education-num  \\\n",
       "0  39.0          State-gov   77516.0   Bachelors           13.0   \n",
       "1  50.0   Self-emp-not-inc   83311.0   Bachelors           13.0   \n",
       "2  38.0            Private  215646.0     HS-grad            9.0   \n",
       "3  53.0            Private  234721.0        11th            7.0   \n",
       "4  28.0            Private  338409.0   Bachelors           13.0   \n",
       "\n",
       "        marital-status          occupation    relationship    race      sex  \\\n",
       "0        Never-married        Adm-clerical   Not-in-family   White     Male   \n",
       "1   Married-civ-spouse     Exec-managerial         Husband   White     Male   \n",
       "2             Divorced   Handlers-cleaners   Not-in-family   White     Male   \n",
       "3   Married-civ-spouse   Handlers-cleaners         Husband   Black     Male   \n",
       "4   Married-civ-spouse      Prof-specialty            Wife   Black   Female   \n",
       "\n",
       "   capital-gain  capital-loss  hours-per-week  native-country income-range  \n",
       "0        2174.0           0.0            40.0   United-States        <=50K  \n",
       "1           0.0           0.0            13.0   United-States        <=50K  \n",
       "2           0.0           0.0            40.0   United-States        <=50K  \n",
       "3           0.0           0.0            40.0   United-States        <=50K  \n",
       "4           0.0           0.0            40.0            Cuba        <=50K  "
      ]
     },
     "execution_count": 1,
     "metadata": {},
     "output_type": "execute_result"
    }
   ],
   "source": [
    "# Importing and Getting an overview of the dataset\n",
    "import pandas as pd\n",
    "income = pd.read_csv(r\"C:\\Users\\User\\Documents\\Udacity\\census_income.csv\")\n",
    "income.head()"
   ]
  },
  {
   "cell_type": "markdown",
   "id": "f929a38d",
   "metadata": {},
   "source": [
    "- As shown from data frame above, the census has 15 variables, as listed below, using tuple() method:"
   ]
  },
  {
   "cell_type": "code",
   "execution_count": 83,
   "id": "bc9867a7",
   "metadata": {},
   "outputs": [
    {
     "name": "stdout",
     "output_type": "stream",
     "text": [
      "age\n",
      "workclass\n",
      "fnlwgt\n",
      "education\n",
      "education-num\n",
      "marital-status\n",
      "occupation\n",
      "relationship\n",
      "race\n",
      "sex\n",
      "capital-gain\n",
      "capital-loss\n",
      "hours-per-week\n",
      "native-country\n",
      "income-range\n"
     ]
    }
   ],
   "source": [
    "variable_list = tuple(income)\n",
    "for i in variable_list:\n",
    "    print(i)"
   ]
  },
  {
   "cell_type": "markdown",
   "id": "82179778",
   "metadata": {},
   "source": [
    "- To allow for easier dataset analysis, below we adopt the dataframe.info() method to have a better outlook\n",
    "- Also, since the focus of this report is correlation, (I) chose age and sex, to illustrate key data preparation elements\n",
    "- First, to clean the data, the isnull() method is used to check if there are any null items"
   ]
  },
  {
   "cell_type": "code",
   "execution_count": 10,
   "id": "a6e78c8b",
   "metadata": {
    "scrolled": true
   },
   "outputs": [
    {
     "name": "stdout",
     "output_type": "stream",
     "text": [
      "<class 'pandas.core.frame.DataFrame'>\n",
      "RangeIndex: 32561 entries, 0 to 32560\n",
      "Data columns (total 15 columns):\n",
      " #   Column          Non-Null Count  Dtype  \n",
      "---  ------          --------------  -----  \n",
      " 0   age             32525 non-null  float64\n",
      " 1   workclass       32521 non-null  object \n",
      " 2   fnlwgt          32554 non-null  float64\n",
      " 3   education       32555 non-null  object \n",
      " 4   education-num   32559 non-null  float64\n",
      " 5   marital-status  32548 non-null  object \n",
      " 6   occupation      32552 non-null  object \n",
      " 7   relationship    32556 non-null  object \n",
      " 8   race            32552 non-null  object \n",
      " 9   sex             32554 non-null  object \n",
      " 10  capital-gain    32556 non-null  float64\n",
      " 11  capital-loss    32555 non-null  float64\n",
      " 12  hours-per-week  32540 non-null  float64\n",
      " 13  native-country  32555 non-null  object \n",
      " 14  income-range    32555 non-null  object \n",
      "dtypes: float64(6), object(9)\n",
      "memory usage: 3.7+ MB\n"
     ]
    }
   ],
   "source": [
    "income.info()"
   ]
  },
  {
   "cell_type": "code",
   "execution_count": 11,
   "id": "cd723dee",
   "metadata": {
    "scrolled": false
   },
   "outputs": [
    {
     "data": {
      "text/plain": [
       "age               36\n",
       "workclass         40\n",
       "fnlwgt             7\n",
       "education          6\n",
       "education-num      2\n",
       "marital-status    13\n",
       "occupation         9\n",
       "relationship       5\n",
       "race               9\n",
       "sex                7\n",
       "capital-gain       5\n",
       "capital-loss       6\n",
       "hours-per-week    21\n",
       "native-country     6\n",
       "income-range       6\n",
       "dtype: int64"
      ]
     },
     "execution_count": 11,
     "metadata": {},
     "output_type": "execute_result"
    }
   ],
   "source": [
    "income.isnull().sum()"
   ]
  },
  {
   "cell_type": "markdown",
   "id": "056d0e0d",
   "metadata": {},
   "source": [
    "- As shown from the summary above, for age variable, there are 36 null values and for sex, there are 7 null values\n",
    "- To allow for quality analysis, the right data cleaning and preparation will be done on these two variables\n",
    "- First, on (1) age variable and them on (2) sex variable"
   ]
  },
  {
   "cell_type": "markdown",
   "id": "ea2f6893",
   "metadata": {},
   "source": [
    "#### a. Data Cleaning on Age Variable\n",
    "- To remove the null items, i.e., 35 of them, the null datapoints will be filled with the mean age from the total sample"
   ]
  },
  {
   "cell_type": "code",
   "execution_count": 15,
   "id": "d283a4ca",
   "metadata": {},
   "outputs": [
    {
     "data": {
      "text/plain": [
       "38.57847809377402"
      ]
     },
     "execution_count": 15,
     "metadata": {},
     "output_type": "execute_result"
    }
   ],
   "source": [
    "\n",
    "age_mean = income['age'].mean()\n",
    "age_mean"
   ]
  },
  {
   "cell_type": "markdown",
   "id": "6b6b6cba",
   "metadata": {},
   "source": [
    "- From above, the mean of the age variable is 38.57847809377402\n",
    "- This is what will be used to fill the null sections in the age column as shown below"
   ]
  },
  {
   "cell_type": "code",
   "execution_count": 25,
   "id": "6854aa22",
   "metadata": {
    "scrolled": false
   },
   "outputs": [],
   "source": [
    "import pandas as pd\n",
    "income['age'].fillna(age_mean, inplace=True)"
   ]
  },
  {
   "cell_type": "markdown",
   "id": "6803a2a3",
   "metadata": {},
   "source": [
    "#### b. Data Cleaning on Sex Variable\n",
    "- As shown from the isnull() method, there are 7 null items in the sex variable\n",
    "- To remove the null items, i.e., 7 of them, the null datapoints will be filled with lowest category value\n",
    "- First, to find out the smallest category between female and males, count method is used as below"
   ]
  },
  {
   "cell_type": "code",
   "execution_count": 27,
   "id": "cdfdf92c",
   "metadata": {
    "scrolled": true
   },
   "outputs": [
    {
     "data": {
      "text/plain": [
       " Male      21789\n",
       " Female    10765\n",
       "Name: sex, dtype: int64"
      ]
     },
     "execution_count": 27,
     "metadata": {},
     "output_type": "execute_result"
    }
   ],
   "source": [
    "income['sex'].value_counts()"
   ]
  },
  {
   "cell_type": "markdown",
   "id": "c1c09ce1",
   "metadata": {},
   "source": [
    "- From the summary above, male = 21789 and females = 10765. As a choice, the 7 null items will be filled with female\n",
    "- This is as shown below"
   ]
  },
  {
   "cell_type": "code",
   "execution_count": 28,
   "id": "a64b2bac",
   "metadata": {
    "scrolled": true
   },
   "outputs": [],
   "source": [
    "income['sex'].fillna('Female', inplace=True)"
   ]
  },
  {
   "cell_type": "code",
   "execution_count": 29,
   "id": "d1b503ae",
   "metadata": {
    "scrolled": true
   },
   "outputs": [
    {
     "data": {
      "text/plain": [
       "age                0\n",
       "workclass         40\n",
       "fnlwgt             7\n",
       "education          6\n",
       "education-num      2\n",
       "marital-status    13\n",
       "occupation         9\n",
       "relationship       5\n",
       "race               9\n",
       "sex                0\n",
       "capital-gain       5\n",
       "capital-loss       6\n",
       "hours-per-week    21\n",
       "native-country     6\n",
       "income-range       6\n",
       "dtype: int64"
      ]
     },
     "execution_count": 29,
     "metadata": {},
     "output_type": "execute_result"
    }
   ],
   "source": [
    "# Checking for any null values in the new dataset for the age and sex variables\n",
    "income.isnull().sum()"
   ]
  },
  {
   "cell_type": "markdown",
   "id": "d5acc78e",
   "metadata": {},
   "source": [
    "- As shown above, for our interest variables, i.e., Age and Sex, there are no null values anymore\n",
    "- Now, the data can be analyzed for better interpretation and answering the research question"
   ]
  },
  {
   "cell_type": "markdown",
   "id": "a43fcb1c",
   "metadata": {},
   "source": [
    "## Descriptive Statistics and Data Visualizations\n",
    "\n",
    "- First, after replacing null items for the chosen variables (age and sex), descriptive statistics helps examine the data"
   ]
  },
  {
   "cell_type": "markdown",
   "id": "6bdac99e",
   "metadata": {},
   "source": [
    "#### 1. PART 1: NUMERICAL VARIABLES (CONTINUOUS VARIABLES)\n",
    "- For the numerical variables, the describe() method helps give an overview of key descritive statistics\n",
    "- This is as shown below, with little explanation following"
   ]
  },
  {
   "cell_type": "code",
   "execution_count": 30,
   "id": "e4c2b159",
   "metadata": {
    "scrolled": false
   },
   "outputs": [
    {
     "data": {
      "text/html": [
       "<div>\n",
       "<style scoped>\n",
       "    .dataframe tbody tr th:only-of-type {\n",
       "        vertical-align: middle;\n",
       "    }\n",
       "\n",
       "    .dataframe tbody tr th {\n",
       "        vertical-align: top;\n",
       "    }\n",
       "\n",
       "    .dataframe thead th {\n",
       "        text-align: right;\n",
       "    }\n",
       "</style>\n",
       "<table border=\"1\" class=\"dataframe\">\n",
       "  <thead>\n",
       "    <tr style=\"text-align: right;\">\n",
       "      <th></th>\n",
       "      <th>age</th>\n",
       "      <th>fnlwgt</th>\n",
       "      <th>education-num</th>\n",
       "      <th>capital-gain</th>\n",
       "      <th>capital-loss</th>\n",
       "      <th>hours-per-week</th>\n",
       "    </tr>\n",
       "  </thead>\n",
       "  <tbody>\n",
       "    <tr>\n",
       "      <th>count</th>\n",
       "      <td>32561.000000</td>\n",
       "      <td>3.255400e+04</td>\n",
       "      <td>32559.000000</td>\n",
       "      <td>32556.000000</td>\n",
       "      <td>32555.000000</td>\n",
       "      <td>32540.000000</td>\n",
       "    </tr>\n",
       "    <tr>\n",
       "      <th>mean</th>\n",
       "      <td>38.578478</td>\n",
       "      <td>1.897704e+05</td>\n",
       "      <td>10.080561</td>\n",
       "      <td>1077.814351</td>\n",
       "      <td>87.319920</td>\n",
       "      <td>40.436386</td>\n",
       "    </tr>\n",
       "    <tr>\n",
       "      <th>std</th>\n",
       "      <td>13.633581</td>\n",
       "      <td>1.055459e+05</td>\n",
       "      <td>2.572708</td>\n",
       "      <td>7385.847126</td>\n",
       "      <td>402.995608</td>\n",
       "      <td>12.344897</td>\n",
       "    </tr>\n",
       "    <tr>\n",
       "      <th>min</th>\n",
       "      <td>17.000000</td>\n",
       "      <td>1.228500e+04</td>\n",
       "      <td>1.000000</td>\n",
       "      <td>0.000000</td>\n",
       "      <td>0.000000</td>\n",
       "      <td>1.000000</td>\n",
       "    </tr>\n",
       "    <tr>\n",
       "      <th>25%</th>\n",
       "      <td>28.000000</td>\n",
       "      <td>1.178285e+05</td>\n",
       "      <td>9.000000</td>\n",
       "      <td>0.000000</td>\n",
       "      <td>0.000000</td>\n",
       "      <td>40.000000</td>\n",
       "    </tr>\n",
       "    <tr>\n",
       "      <th>50%</th>\n",
       "      <td>37.000000</td>\n",
       "      <td>1.783545e+05</td>\n",
       "      <td>10.000000</td>\n",
       "      <td>0.000000</td>\n",
       "      <td>0.000000</td>\n",
       "      <td>40.000000</td>\n",
       "    </tr>\n",
       "    <tr>\n",
       "      <th>75%</th>\n",
       "      <td>48.000000</td>\n",
       "      <td>2.370315e+05</td>\n",
       "      <td>12.000000</td>\n",
       "      <td>0.000000</td>\n",
       "      <td>0.000000</td>\n",
       "      <td>45.000000</td>\n",
       "    </tr>\n",
       "    <tr>\n",
       "      <th>max</th>\n",
       "      <td>90.000000</td>\n",
       "      <td>1.484705e+06</td>\n",
       "      <td>16.000000</td>\n",
       "      <td>99999.000000</td>\n",
       "      <td>4356.000000</td>\n",
       "      <td>99.000000</td>\n",
       "    </tr>\n",
       "  </tbody>\n",
       "</table>\n",
       "</div>"
      ],
      "text/plain": [
       "                age        fnlwgt  education-num  capital-gain  capital-loss  \\\n",
       "count  32561.000000  3.255400e+04   32559.000000  32556.000000  32555.000000   \n",
       "mean      38.578478  1.897704e+05      10.080561   1077.814351     87.319920   \n",
       "std       13.633581  1.055459e+05       2.572708   7385.847126    402.995608   \n",
       "min       17.000000  1.228500e+04       1.000000      0.000000      0.000000   \n",
       "25%       28.000000  1.178285e+05       9.000000      0.000000      0.000000   \n",
       "50%       37.000000  1.783545e+05      10.000000      0.000000      0.000000   \n",
       "75%       48.000000  2.370315e+05      12.000000      0.000000      0.000000   \n",
       "max       90.000000  1.484705e+06      16.000000  99999.000000   4356.000000   \n",
       "\n",
       "       hours-per-week  \n",
       "count    32540.000000  \n",
       "mean        40.436386  \n",
       "std         12.344897  \n",
       "min          1.000000  \n",
       "25%         40.000000  \n",
       "50%         40.000000  \n",
       "75%         45.000000  \n",
       "max         99.000000  "
      ]
     },
     "execution_count": 30,
     "metadata": {},
     "output_type": "execute_result"
    }
   ],
   "source": [
    "income.describe()"
   ]
  },
  {
   "cell_type": "markdown",
   "id": "1a2b094d",
   "metadata": {},
   "source": [
    "#### Explanation of the Dataset's Tabulated Descritive Statistics\n",
    "- From the table, of the sampled participants\n",
    "1. On Age\n",
    "- The mean age is 38.58 years (SD=13.64), with youngest person being 17 years and eldest 90 years\n",
    "- On percentiles, 25% are below 28 years, and 50% below 37 years, while those in the 75% are 48 years.\n",
    "\n",
    "2. On Education-num\n",
    "- The mean is 10.08 (SD=2.57), with lowest 0.0000 and highest 99999\n",
    "- On percentiles, 25%, 50% and 75% are zero(0) making these values irrelevant for meaningful interpretation\n",
    "\n",
    "3. On Capital Loss\n",
    "- The mean is 87.319920 (SD=402.996), with least  being 0.0000 and highest (max) being 4356.00\n",
    "\n",
    "4. On Hours per week\n",
    "- The average for the sample was 40.436386(SD=12.34), with minimum being 1 hour and maximum 99 hours\n",
    "- On percentiles, the 25%, 50% and 75% were 40 hours, 40 hours and 45 hours respectively"
   ]
  },
  {
   "cell_type": "markdown",
   "id": "6d04eb62",
   "metadata": {},
   "source": [
    "#### 2. PART 2: NON-NUMERICAL VARIABLES (CATEGORICAL VARIABLES)\n",
    "\n",
    "- To examine frequencies in the categorical variables, the counts() method and its associates can be used\n",
    "- Other techniques will also be used, to summarize and visualize the dataset for the different variables"
   ]
  },
  {
   "cell_type": "code",
   "execution_count": 40,
   "id": "f9e97e25",
   "metadata": {
    "scrolled": true
   },
   "outputs": [
    {
     "data": {
      "text/plain": [
       " HS-grad         10498\n",
       " Some-college     7290\n",
       " Bachelors        5354\n",
       " Masters          1723\n",
       " Assoc-voc        1382\n",
       " 11th             1175\n",
       " Assoc-acdm       1066\n",
       " 10th              933\n",
       " 7th-8th           646\n",
       " Prof-school       576\n",
       " 9th               514\n",
       " 12th              433\n",
       " Doctorate         413\n",
       " 5th-6th           333\n",
       " 1st-4th           168\n",
       " Preschool          51\n",
       "Name: education, dtype: int64"
      ]
     },
     "execution_count": 40,
     "metadata": {},
     "output_type": "execute_result"
    }
   ],
   "source": [
    "# Education\n",
    "income['education'].value_counts()"
   ]
  },
  {
   "cell_type": "markdown",
   "id": "ebeabd75",
   "metadata": {},
   "source": [
    "- As shown, it can be noted that most sample members were HS-grads (10498), then Some-college (7290), and Bachelors (5354)\n",
    "- The least number being Preschool (51).\n",
    "- The above can also be visualized as below, indicating that most participants were High school graduates (HS-grad)"
   ]
  },
  {
   "cell_type": "code",
   "execution_count": 41,
   "id": "d291ad8b",
   "metadata": {},
   "outputs": [
    {
     "data": {
      "text/plain": [
       "<AxesSubplot:>"
      ]
     },
     "execution_count": 41,
     "metadata": {},
     "output_type": "execute_result"
    },
    {
     "data": {
      "image/png": "[encoded data removed]",
      "text/plain": [
       "<Figure size 432x288 with 1 Axes>"
      ]
     },
     "metadata": {
      "needs_background": "light"
     },
     "output_type": "display_data"
    }
   ],
   "source": [
    "income['education'].value_counts().plot(kind='bar')"
   ]
  },
  {
   "cell_type": "code",
   "execution_count": 42,
   "id": "7c8549ca",
   "metadata": {
    "scrolled": true
   },
   "outputs": [
    {
     "data": {
      "text/plain": [
       " Married-civ-spouse       14969\n",
       " Never-married            10681\n",
       " Divorced                  4441\n",
       " Separated                 1024\n",
       " Widowed                    993\n",
       " Married-spouse-absent      417\n",
       " Married-AF-spouse           23\n",
       "Name: marital-status, dtype: int64"
      ]
     },
     "execution_count": 42,
     "metadata": {},
     "output_type": "execute_result"
    }
   ],
   "source": [
    "# Marital-status\n",
    "income['marital-status'].value_counts()"
   ]
  },
  {
   "cell_type": "markdown",
   "id": "0f707536",
   "metadata": {},
   "source": [
    "- From the census data, most were the Married-civ-spouse (14969), and least members wre Married-AF-spouse (23)\n",
    "- The bar chart below visualizes this differences"
   ]
  },
  {
   "cell_type": "code",
   "execution_count": 47,
   "id": "4d72dd4f",
   "metadata": {},
   "outputs": [
    {
     "data": {
      "text/plain": [
       "<AxesSubplot:ylabel='marital-status'>"
      ]
     },
     "execution_count": 47,
     "metadata": {},
     "output_type": "execute_result"
    },
    {
     "data": {
      "image/png": "[encoded data removed]",
      "text/plain": [
       "<Figure size 504x504 with 1 Axes>"
      ]
     },
     "metadata": {},
     "output_type": "display_data"
    }
   ],
   "source": [
    "income['marital-status'].value_counts().plot(kind='pie', figsize=(7, 7))"
   ]
  },
  {
   "cell_type": "code",
   "execution_count": 48,
   "id": "965f2107",
   "metadata": {
    "scrolled": true
   },
   "outputs": [
    {
     "data": {
      "text/plain": [
       " Prof-specialty       4138\n",
       " Craft-repair         4098\n",
       " Exec-managerial      4064\n",
       " Adm-clerical         3770\n",
       " Sales                3648\n",
       " Other-service        3294\n",
       " Machine-op-inspct    2002\n",
       " ?                    1843\n",
       " Transport-moving     1597\n",
       " Handlers-cleaners    1370\n",
       " Farming-fishing       994\n",
       " Tech-support          928\n",
       " Protective-serv       648\n",
       " Priv-house-serv       149\n",
       " Armed-Forces            9\n",
       "Name: occupation, dtype: int64"
      ]
     },
     "execution_count": 48,
     "metadata": {},
     "output_type": "execute_result"
    }
   ],
   "source": [
    "# Occupation\n",
    "income['occupation'].value_counts()"
   ]
  },
  {
   "cell_type": "markdown",
   "id": "573a2e69",
   "metadata": {},
   "source": [
    "- For the census, the top-most 5 occupations were  Prof-specialty (4138), Craft-repair (4098), Exec-managerial (4064), Adm-clerical (3770) and Sales (3648)\n",
    "- The least 2 occupation were Priv-house-serv (149) and Armed-Forces(9), also as visualized below"
   ]
  },
  {
   "cell_type": "code",
   "execution_count": 49,
   "id": "326e2f97",
   "metadata": {},
   "outputs": [
    {
     "data": {
      "text/plain": [
       "<AxesSubplot:>"
      ]
     },
     "execution_count": 49,
     "metadata": {},
     "output_type": "execute_result"
    },
    {
     "data": {
      "image/png": "[encoded data removed]",
      "text/plain": [
       "<Figure size 432x288 with 1 Axes>"
      ]
     },
     "metadata": {
      "needs_background": "light"
     },
     "output_type": "display_data"
    }
   ],
   "source": [
    "income['occupation'].value_counts().plot(kind='bar')"
   ]
  },
  {
   "cell_type": "code",
   "execution_count": 50,
   "id": "1ca5fac7",
   "metadata": {
    "scrolled": true
   },
   "outputs": [
    {
     "data": {
      "text/plain": [
       " Husband           13191\n",
       " Not-in-family      8302\n",
       " Own-child          5068\n",
       " Unmarried          3446\n",
       " Wife               1568\n",
       " Other-relative      981\n",
       "Name: relationship, dtype: int64"
      ]
     },
     "execution_count": 50,
     "metadata": {},
     "output_type": "execute_result"
    }
   ],
   "source": [
    "# Relationship\n",
    "income['relationship'].value_counts()"
   ]
  },
  {
   "cell_type": "code",
   "execution_count": 52,
   "id": "2a91e973",
   "metadata": {},
   "outputs": [
    {
     "data": {
      "text/plain": [
       "<AxesSubplot:ylabel='relationship'>"
      ]
     },
     "execution_count": 52,
     "metadata": {},
     "output_type": "execute_result"
    },
    {
     "data": {
      "image/png": "[encoded data removed]",
      "text/plain": [
       "<Figure size 504x504 with 1 Axes>"
      ]
     },
     "metadata": {},
     "output_type": "display_data"
    }
   ],
   "source": [
    "# Most member's relatioship was Husband (13191), with the least being Other-relative (981) as visualized below\n",
    "income['relationship'].value_counts().plot(kind='pie', figsize=(7, 7))"
   ]
  },
  {
   "cell_type": "code",
   "execution_count": 34,
   "id": "acd8be70",
   "metadata": {
    "scrolled": true
   },
   "outputs": [
    {
     "data": {
      "text/plain": [
       " White                 27809\n",
       " Black                  3122\n",
       " Asian-Pac-Islander     1039\n",
       " Amer-Indian-Eskimo      311\n",
       " Other                   271\n",
       "Name: race, dtype: int64"
      ]
     },
     "execution_count": 34,
     "metadata": {},
     "output_type": "execute_result"
    }
   ],
   "source": [
    "# Race variable\n",
    "income['race'].value_counts()"
   ]
  },
  {
   "cell_type": "markdown",
   "id": "5fde699f",
   "metadata": {},
   "source": [
    "- The data shows most members race was whites (27809) and least known American-Indian-Eskimo (311), with last Others (271).\n",
    "- This can also be visualized using the chart below"
   ]
  },
  {
   "cell_type": "code",
   "execution_count": 39,
   "id": "231098f7",
   "metadata": {},
   "outputs": [
    {
     "data": {
      "text/plain": [
       "<AxesSubplot:>"
      ]
     },
     "execution_count": 39,
     "metadata": {},
     "output_type": "execute_result"
    },
    {
     "data": {
      "image/png": "[encoded data removed]",
      "text/plain": [
       "<Figure size 432x288 with 1 Axes>"
      ]
     },
     "metadata": {
      "needs_background": "light"
     },
     "output_type": "display_data"
    }
   ],
   "source": [
    "income['race'].value_counts().plot(kind='bar')\n",
    "\n",
    "# The bar graph below confirms that for the sample, the majority were White"
   ]
  },
  {
   "cell_type": "code",
   "execution_count": 67,
   "id": "6be11346",
   "metadata": {
    "scrolled": false
   },
   "outputs": [
    {
     "data": {
      "text/plain": [
       "('age',\n",
       " 'workclass: ',\n",
       " 'fnlwgt',\n",
       " 'education',\n",
       " 'education-num',\n",
       " 'marital-status',\n",
       " 'occupation',\n",
       " 'relationship',\n",
       " 'race',\n",
       " 'sex',\n",
       " 'capital-gain',\n",
       " 'capital-loss',\n",
       " 'hours-per-week',\n",
       " 'native-country',\n",
       " 'income-range')"
      ]
     },
     "execution_count": 67,
     "metadata": {},
     "output_type": "execute_result"
    }
   ],
   "source": [
    "tuple(income)"
   ]
  },
  {
   "cell_type": "markdown",
   "id": "8b7b2646",
   "metadata": {},
   "source": [
    "# Data Analysis"
   ]
  },
  {
   "cell_type": "markdown",
   "id": "6a31764c",
   "metadata": {},
   "source": [
    "- In order to answer the Research Question and Hypothesis listed in this report, inferential analysis is needed\n",
    "- In this case, correlation (corr) analysis is used to examine the numerical variables and give insights on association\n",
    "- The correlation results will also give the magnitude and direction of association (negative or positive correlation)"
   ]
  },
  {
   "cell_type": "code",
   "execution_count": 87,
   "id": "aa640292",
   "metadata": {
    "scrolled": true
   },
   "outputs": [
    {
     "data": {
      "text/html": [
       "<div>\n",
       "<style scoped>\n",
       "    .dataframe tbody tr th:only-of-type {\n",
       "        vertical-align: middle;\n",
       "    }\n",
       "\n",
       "    .dataframe tbody tr th {\n",
       "        vertical-align: top;\n",
       "    }\n",
       "\n",
       "    .dataframe thead th {\n",
       "        text-align: right;\n",
       "    }\n",
       "</style>\n",
       "<table border=\"1\" class=\"dataframe\">\n",
       "  <thead>\n",
       "    <tr style=\"text-align: right;\">\n",
       "      <th></th>\n",
       "      <th>age</th>\n",
       "      <th>fnlwgt</th>\n",
       "      <th>education-num</th>\n",
       "      <th>capital-gain</th>\n",
       "      <th>capital-loss</th>\n",
       "      <th>hours-per-week</th>\n",
       "    </tr>\n",
       "  </thead>\n",
       "  <tbody>\n",
       "    <tr>\n",
       "      <th>age</th>\n",
       "      <td>1.000000</td>\n",
       "      <td>-0.052856</td>\n",
       "      <td>0.052915</td>\n",
       "      <td>0.101240</td>\n",
       "      <td>0.047859</td>\n",
       "      <td>0.108072</td>\n",
       "    </tr>\n",
       "    <tr>\n",
       "      <th>fnlwgt</th>\n",
       "      <td>-0.052856</td>\n",
       "      <td>1.000000</td>\n",
       "      <td>-0.025721</td>\n",
       "      <td>-0.004955</td>\n",
       "      <td>-0.005573</td>\n",
       "      <td>-0.015437</td>\n",
       "    </tr>\n",
       "    <tr>\n",
       "      <th>education-num</th>\n",
       "      <td>0.052915</td>\n",
       "      <td>-0.025721</td>\n",
       "      <td>1.000000</td>\n",
       "      <td>0.103587</td>\n",
       "      <td>0.065521</td>\n",
       "      <td>0.131902</td>\n",
       "    </tr>\n",
       "    <tr>\n",
       "      <th>capital-gain</th>\n",
       "      <td>0.101240</td>\n",
       "      <td>-0.004955</td>\n",
       "      <td>0.103587</td>\n",
       "      <td>1.000000</td>\n",
       "      <td>-0.064534</td>\n",
       "      <td>0.081127</td>\n",
       "    </tr>\n",
       "    <tr>\n",
       "      <th>capital-loss</th>\n",
       "      <td>0.047859</td>\n",
       "      <td>-0.005573</td>\n",
       "      <td>0.065521</td>\n",
       "      <td>-0.064534</td>\n",
       "      <td>1.000000</td>\n",
       "      <td>0.052520</td>\n",
       "    </tr>\n",
       "    <tr>\n",
       "      <th>hours-per-week</th>\n",
       "      <td>0.108072</td>\n",
       "      <td>-0.015437</td>\n",
       "      <td>0.131902</td>\n",
       "      <td>0.081127</td>\n",
       "      <td>0.052520</td>\n",
       "      <td>1.000000</td>\n",
       "    </tr>\n",
       "  </tbody>\n",
       "</table>\n",
       "</div>"
      ],
      "text/plain": [
       "                     age    fnlwgt  education-num  capital-gain  capital-loss  \\\n",
       "age             1.000000 -0.052856       0.052915      0.101240      0.047859   \n",
       "fnlwgt         -0.052856  1.000000      -0.025721     -0.004955     -0.005573   \n",
       "education-num   0.052915 -0.025721       1.000000      0.103587      0.065521   \n",
       "capital-gain    0.101240 -0.004955       0.103587      1.000000     -0.064534   \n",
       "capital-loss    0.047859 -0.005573       0.065521     -0.064534      1.000000   \n",
       "hours-per-week  0.108072 -0.015437       0.131902      0.081127      0.052520   \n",
       "\n",
       "                hours-per-week  \n",
       "age                   0.108072  \n",
       "fnlwgt               -0.015437  \n",
       "education-num         0.131902  \n",
       "capital-gain          0.081127  \n",
       "capital-loss          0.052520  \n",
       "hours-per-week        1.000000  "
      ]
     },
     "execution_count": 87,
     "metadata": {},
     "output_type": "execute_result"
    }
   ],
   "source": [
    "income.corr(method='kendall')"
   ]
  },
  {
   "cell_type": "markdown",
   "id": "ed2bc27c",
   "metadata": {},
   "source": [
    "### Discussion and Interpretation\n",
    "- Correlation coefficient varies from -1 to +1 (Udacity, 2022; W3Schools, 2022).\n",
    "- Thus, with this, the below interpretations can be made about the correlation among the variables\n",
    "\n",
    "- age and fnlwgt have a negative, but weak correlation (-0.052856). Their scatter plot and trend line is almost flat\n",
    "- age and education-num have a positive, but weak correlation (0.052915). Their scatter plot and trend line is almost flat\n",
    "- age and capital-gain have a positive, but slightly weak correlation (0.101240).\n",
    "- age and capital-loss have a positive, but weak correlation (0.047859). Their scatter plot and trend line is almost flat\n",
    "- age and hours-per-week have a positive, but slightly weak correlation (0.108072).\n",
    "\n",
    "- Another noticeable variable with much correlation is capital-gain and education-num at 0.103587\n",
    "- Also, capital-gain and hours-per-week were positively correlated at 0.081127\n",
    "\n",
    "- Hence, for variables with positive correlation, the rise in one has the impact of contributing to the increase in the other\n",
    "- For example, if the people want more capital-gain, having more hours-per-week is necessary\n",
    "- These two variables have a positive correlation\n",
    "\n",
    "- Also, increase in capital-gain was directly associated with education-num (0.103587)"
   ]
  },
  {
   "cell_type": "markdown",
   "id": "e097234c",
   "metadata": {},
   "source": [
    "### Recommendation for Further Research"
   ]
  },
  {
   "cell_type": "markdown",
   "id": "42c43e2e",
   "metadata": {},
   "source": [
    "- In this report, the focus was only on numerical variables, for the inferential section\n",
    "- Further research can carry out extra analysis covering categorical variables, e.g., sex, marital status and education"
   ]
  },
  {
   "cell_type": "markdown",
   "id": "b9c1a266",
   "metadata": {},
   "source": [
    "### Conclusion\n",
    "\n",
    "- The examination of the census income offers useful information, that describes the population in which the dataset was collected from.\n",
    "- Given the need in making better decisions for the improvement of community lives, the analysis has allowed the documentation of useful insights that can be used for business and government decision-making.\n",
    "- As shown through the analysis, the census people had diverse traits and proportions as visualized on multiple factors.\n",
    "- Also, using correlation method, it is shown that different numerical variables have varying association among them\n",
    "- By conducting the descriptive analysis, and then the infrential statistics, useful insights are documented\n",
    "- These ranged from age, sex, education to marital status and others"
   ]
  },
  {
   "cell_type": "markdown",
   "id": "77bda91e",
   "metadata": {},
   "source": [
    "## References"
   ]
  },
  {
   "cell_type": "markdown",
   "id": "8d8c6172",
   "metadata": {},
   "source": [
    "- Lutes, J (2020). Correlation Is Simple With Seaborn And Pandas. MEDIUM. [link](https://towardsdatascience.com/correlation-is-simple-with-seaborn-and-pandas-28c28e92701e)\n",
    "- Udacity (2022). UDACITY Data Analysis Nanodegree Notes and Lectures. [link](https://classroom.udacity.com/nanodegrees/nd002-alg-t2/dashboard/overview)\n",
    "- W3Schools (2022). Pandas - Data Correlations. [link](https://www.w3schools.com/python/pandas/pandas_correlations.asp)\n"
   ]
  }
 ],
 "metadata": {
  "kernelspec": {
   "display_name": "Python 3 (ipykernel)",
   "language": "python",
   "name": "python3"
  },
  "language_info": {
   "codemirror_mode": {
    "name": "ipython",
    "version": 3
   },
   "file_extension": ".py",
   "mimetype": "text/x-python",
   "name": "python",
   "nbconvert_exporter": "python",
   "pygments_lexer": "ipython3",
   "version": "3.9.7"
  }
 },
 "nbformat": 4,
 "nbformat_minor": 5
}
