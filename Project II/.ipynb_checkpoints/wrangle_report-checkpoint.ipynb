{
 "cells": [
  {
   "cell_type": "markdown",
   "metadata": {},
   "source": [
    "## Reporting: wragle_report\n",
    "* Create a **300-600 word written report** called \"wrangle_report.pdf\" or \"wrangle_report.html\" that briefly describes your wrangling efforts. This is to be framed as an internal document."
   ]
  },
  {
   "cell_type": "markdown",
   "metadata": {},
   "source": [
    "### Data Analysis and Wrangling Efforts on WeRateDogs"
   ]
  },
  {
   "cell_type": "markdown",
   "metadata": {},
   "source": [
    "#### Preamble/Introduction"
   ]
  },
  {
   "cell_type": "markdown",
   "metadata": {},
   "source": []
  },
  {
   "cell_type": "markdown",
   "metadata": {},
   "source": [
    "#### Data Overview and Assessment"
   ]
  },
  {
   "cell_type": "markdown",
   "metadata": {},
   "source": [
    "- Before undertaking any wrangling, it was necessary to examine and assess the dataset, so as to get a better overview of the data and pinpoint issues that needs correction. And to make the wrangling process sufficient, it was important to have all the required datasets, and apply the correct tools in supporting complete analysis.\n",
    "- In this process, the main Python methods used included:\n",
    "1. pandas.read_csv() in accessing and reading the datasets\n",
    "2. .info() in summarizing the dataset content and getting a better oveview\n",
    "3. .sample(n) in routinely getting a random sample of the dataframe for subsequent actions\n",
    "4. .describe() for assessing useful insights in the dataframe\n",
    "5. .duplicated() for checking any duplicates that might need further processing on quality and tidiness"
   ]
  },
  {
   "cell_type": "markdown",
   "metadata": {},
   "source": [
    "#### Issues Identification, Rationale for the Project and Tools Used in Completing the Wrangling"
   ]
  },
  {
   "cell_type": "markdown",
   "metadata": {},
   "source": [
    "Completing successfull wrangling starts with pinpointing the goals and issues that nees solving. As part of the process, there was identfying eight(8) quality issues and two (2) tidiness issues. In completing these operations, there was using the **Define-Code-Test Framework** These were:\n",
    "\n",
    "- **Quality** and **Solution Applied**\n",
    "\n",
    "1. The source for the Tweets are too long, which can be grouped into three main areas for clarity and analysis\n",
    "2. Not all tweets have images, i,e., expanded_url's in them, and for consistency, this can be removed for respective dogs.\n",
    "\n",
    "3. Mix ups in representing NaN values, with some rows indicated as \"None\" and others using the word \"NaN\"\n",
    "\n",
    "4. Varying rating numerators in the dataframe. For consistency, this can be changed to be uniform for the numerator dog values\n",
    "\n",
    "5. In image descriptions, some names have underscores likely confusing, e.g., \"Rhodesian_ridgeback\" for \"Rhodesian ridgeback\"\n",
    "\n",
    "6. Time stamp challenges, in that it is represented both as date and clock times on same column\n",
    "\n",
    "7. Different irrelevant or non-clear names for the dogs, e.g., \"a\", \"an\" and \"the\" for a dog names is not very clear\n",
    "\n",
    "8. Inconsistencies in image_predictions with uppper and lowercases, e.g., beagle => Beagle, malamute => Malamute, chow ==> Chow\n",
    "\n",
    "- **Tidiness**\n",
    "\n",
    "1. Removing none useful information columns in the dataframe, i.e., 'in_reply_to_status_id', 'in_reply_to_user_id', 'retweeted_status_id', and 'retweeted_status_user_id'\n",
    "2. Agglomerating dog phases/stages into one column than being combined into one for all, i.e., doggo,floofer,pupper,puppo"
   ]
  },
  {
   "cell_type": "markdown",
   "metadata": {},
   "source": [
    "- In sources issues, Python code was written replacing the repeatitive strings into simple source types.\n",
    "- For consistency and better data quality, tweets that lacked the expanded urls were removed using the **.dropna()** method\n",
    "- Likewise, data mismacthes like cases,  wrong dog names, variation in \"NaN\" and \"None\" were also handling  using **replace()** method, **str.title()** and adoption of **for loop** in successfully iterating through the dataset's row's elements\n",
    "- One of the main areas was in dealing with **dog stages**, with the need in combining three (3) columns into one\n",
    "- In this section, it was first necessary to assess the dataset outlook using **.info() and .describe()*** methods\n",
    "- Using the **.melt()** method, it was possible to combine the columns and merging the values into a single **stages** column\n",
    "- With the completed wrangling process, future analysis can then be completed, allowing for better conclusions by WeRateDogs\n"
   ]
  },
  {
   "cell_type": "markdown",
   "metadata": {},
   "source": [
    "#### Final Data Storage in Master"
   ]
  },
  {
   "cell_type": "markdown",
   "metadata": {},
   "source": [
    "A key aspect upon completing all the wrangling was the need in having a final file for the dataset into a **master** file called **\"twitter_archive_master.csv\"**. In meeting this goal, merging was necessary and this was faciliated by having the same \"tweet_id\" for the predictions and twitter_acrhive datasets. Using **merge()**, it was possible to combine the datasets into one single file for future analysis."
   ]
  },
  {
   "cell_type": "markdown",
   "metadata": {},
   "source": [
    "#### Insights and Visualization"
   ]
  },
  {
   "cell_type": "markdown",
   "metadata": {},
   "source": [
    "- The essence of data analysis lies in supporting business decisions. Hence, to allow for proper interpretation, some core three (3) analysis and insghts were done on the dataset and additional visualization of the insights\n",
    "- In completing the visualization, importing the proper library was necessary, i.e., **matplotlib.pyplot**\n",
    "- To fully create the bar plots, it was core to define the visual's elements including:\n",
    "i. x-axis and y-axis items\n",
    "ii. labels - xlabel and ylabel\n",
    "iii. title for the plot\n",
    "iv. plot sizes and font sizes for use \n",
    "v. displaying the created plots, i.e., **.show()** method"
   ]
  },
  {
   "cell_type": "markdown",
   "metadata": {},
   "source": [
    "#### Summay/Conclusion"
   ]
  },
  {
   "cell_type": "markdown",
   "metadata": {},
   "source": [
    "- The completion of the WeRateDogs data wrangling project relied on using multiple python tools and skills in data analytics. Given that the collected data had varying issues, creativity and open-mindness in using the tools was core.\n",
    "- Nonetheless, effective completion of the warngling needed the timely following and reading of the UDACITY learning resources and application of the ideas in examining the WeRateDogs dataset"
   ]
  }
 ],
 "metadata": {
  "kernelspec": {
   "display_name": "Python 3 (ipykernel)",
   "language": "python",
   "name": "python3"
  },
  "language_info": {
   "codemirror_mode": {
    "name": "ipython",
    "version": 3
   },
   "file_extension": ".py",
   "mimetype": "text/x-python",
   "name": "python",
   "nbconvert_exporter": "python",
   "pygments_lexer": "ipython3",
   "version": "3.9.7"
  }
 },
 "nbformat": 4,
 "nbformat_minor": 2
}
